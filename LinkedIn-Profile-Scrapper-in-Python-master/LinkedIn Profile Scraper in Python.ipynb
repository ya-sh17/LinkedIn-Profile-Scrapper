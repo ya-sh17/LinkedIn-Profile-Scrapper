{
 "cells": [
  {
   "cell_type": "markdown",
   "metadata": {},
   "source": [
    "## LinkedIn Profile Scraper in Python"
   ]
  },
  {
   "cell_type": "code",
   "execution_count": 278,
   "metadata": {},
   "outputs": [],
   "source": [
    "import warnings\n",
    "warnings.filterwarnings(\"ignore\")"
   ]
  },
  {
   "cell_type": "code",
   "execution_count": 279,
   "metadata": {},
   "outputs": [
    {
     "data": {
      "text/plain": [
       "False"
      ]
     },
     "execution_count": 279,
     "metadata": {},
     "output_type": "execute_result"
    }
   ],
   "source": [
    "import os\n",
    "from bs4 import BeautifulSoup\n",
    "from selenium import webdriver\n",
    "from selenium.webdriver.common.by import By\n",
    "\n",
    "from time import sleep\n",
    "\n",
    "from dotenv import load_dotenv\n",
    "load_dotenv()"
   ]
  },
  {
   "cell_type": "code",
   "execution_count": 280,
   "metadata": {},
   "outputs": [],
   "source": [
    "# if you don't have a .env file, you can create one and add the following lines:\n",
    "os.environ['EMAIL'] = 'your linkedin email'\n",
    "os.environ['PASSWORD'] = 'your pass'"
   ]
  },
  {
   "cell_type": "code",
   "execution_count": 281,
   "metadata": {},
   "outputs": [
    {
     "data": {
      "text/plain": [
       "'LinkedIn Login, Sign in | LinkedIn'"
      ]
     },
     "execution_count": 281,
     "metadata": {},
     "output_type": "execute_result"
    }
   ],
   "source": [
    "driver = webdriver.Chrome()\n",
    "driver.get('https://www.linkedin.com/login')\n",
    "driver.title"
   ]
  },
  {
   "cell_type": "code",
   "execution_count": 282,
   "metadata": {},
   "outputs": [],
   "source": [
    "email = driver.find_element(By.ID, 'username')\n",
    "email.send_keys(os.environ['EMAIL'])\n",
    "\n",
    "password = driver.find_element(By.ID, 'password')\n",
    "password.send_keys(os.environ['PASSWORD'])\n",
    "\n",
    "password.submit()"
   ]
  },
  {
   "cell_type": "code",
   "execution_count": 283,
   "metadata": {},
   "outputs": [],
   "source": [
    "## MAKE SURE TO USE ONLY THIS URL TO AVOID BEING STUCK IN ERRORS\n",
    "\n",
    "url = \"https://www.linkedin.com/in/williamhgates/\"\n",
    "driver.get(url)"
   ]
  },
  {
   "cell_type": "code",
   "execution_count": 284,
   "metadata": {},
   "outputs": [],
   "source": [
    "profile_data = {}"
   ]
  },
  {
   "cell_type": "code",
   "execution_count": 285,
   "metadata": {},
   "outputs": [
    {
     "data": {
      "text/plain": [
       "'(1) Bill Gates | LinkedIn'"
      ]
     },
     "execution_count": 285,
     "metadata": {},
     "output_type": "execute_result"
    }
   ],
   "source": [
    "driver.title"
   ]
  },
  {
   "cell_type": "code",
   "execution_count": 286,
   "metadata": {},
   "outputs": [],
   "source": [
    "page_source = driver.page_source\n",
    "soup = BeautifulSoup(page_source, 'html.parser')\n",
    "\n",
    "name = soup.find('h1', {'class': \"XcqMGBrLgSDsfiaCuMsRfEqqGQIKDfI inline t-24 v-align-middle break-words\"})\n",
    "\n",
    "name = name.get_text().strip()\n",
    "\n",
    "profile_data['name'] = name\n",
    "profile_data['url'] = url"
   ]
  },
  {
   "cell_type": "code",
   "execution_count": 287,
   "metadata": {},
   "outputs": [
    {
     "data": {
      "text/plain": [
       "{'name': 'Bill Gates', 'url': 'https://www.linkedin.com/in/williamhgates/'}"
      ]
     },
     "execution_count": 287,
     "metadata": {},
     "output_type": "execute_result"
    }
   ],
   "source": [
    "profile_data"
   ]
  },
  {
   "cell_type": "code",
   "execution_count": 288,
   "metadata": {},
   "outputs": [],
   "source": [
    "headline = soup.find('div', {'class': 'text-body-medium break-words'})\n",
    "headline = headline.get_text().strip()\n",
    "\n",
    "profile_data['headline'] = headline"
   ]
  },
  {
   "cell_type": "code",
   "execution_count": 289,
   "metadata": {},
   "outputs": [
    {
     "data": {
      "text/plain": [
       "{'name': 'Bill Gates',\n",
       " 'url': 'https://www.linkedin.com/in/williamhgates/',\n",
       " 'headline': 'Chair, Gates Foundation and Founder, Breakthrough Energy'}"
      ]
     },
     "execution_count": 289,
     "metadata": {},
     "output_type": "execute_result"
    }
   ],
   "source": [
    "profile_data"
   ]
  },
  {
   "cell_type": "markdown",
   "metadata": {},
   "source": [
    "### Show More"
   ]
  },
  {
   "cell_type": "code",
   "execution_count": 290,
   "metadata": {},
   "outputs": [],
   "source": [
    "# driver.find_element(By.CLASS_NAME, \"inline-show-more-text__button\").click()"
   ]
  },
  {
   "cell_type": "code",
   "execution_count": 291,
   "metadata": {},
   "outputs": [],
   "source": [
    "page_source = driver.page_source\n",
    "soup = BeautifulSoup(page_source, 'html.parser')\n",
    "\n",
    "about = soup.find('div', {'class': \"VagORnXhEAuUqSkCLHBnaAjVpRmiMBuiQzcDo full-width t-14 t-normal t-black display-flex align-items-center\"})\n",
    "\n",
    "about = about.get_text().strip()\n",
    "\n",
    "profile_data['about'] = about"
   ]
  },
  {
   "cell_type": "code",
   "execution_count": 292,
   "metadata": {},
   "outputs": [
    {
     "data": {
      "text/plain": [
       "{'name': 'Bill Gates',\n",
       " 'url': 'https://www.linkedin.com/in/williamhgates/',\n",
       " 'headline': 'Chair, Gates Foundation and Founder, Breakthrough Energy',\n",
       " 'about': 'Chair of the Bill & Melinda Gates Foundation. Founder of Breakthrough Energy. Co-founder of Microsoft. Voracious reader. Avid traveler. Active blogger.Chair of the Bill & Melinda Gates Foundation. Founder of Breakthrough Energy. Co-founder of Microsoft. Voracious reader. Avid traveler. Active blogger.'}"
      ]
     },
     "execution_count": 292,
     "metadata": {},
     "output_type": "execute_result"
    }
   ],
   "source": [
    "profile_data"
   ]
  },
  {
   "cell_type": "markdown",
   "metadata": {},
   "source": [
    "### Read Experience"
   ]
  },
  {
   "cell_type": "code",
   "execution_count": 293,
   "metadata": {},
   "outputs": [],
   "source": [
    "page_source = driver.page_source\n",
    "soup = BeautifulSoup(page_source, 'html.parser')\n",
    "\n",
    "sections = soup.find_all('section', {'class': \"artdeco-card pv-profile-card break-words mt2\"})"
   ]
  },
  {
   "cell_type": "code",
   "execution_count": 294,
   "metadata": {},
   "outputs": [],
   "source": [
    "for sec in sections:\n",
    "    if sec.find('div', {'id': 'experience'}):\n",
    "        experience = sec\n",
    "\n",
    "# print(experience.get_text().strip())"
   ]
  },
  {
   "cell_type": "code",
   "execution_count": 295,
   "metadata": {},
   "outputs": [],
   "source": [
    "experience = experience.find_all('div', {'class':\"hEBLFpftftXWPGRYGoDBcDKaBkMEMXl kHeaHcCachnYMkafaTqchiuXOxZiAqnKnI fSrphoSMRUdlxXvcULjOSIZHmHqSYCZUqKkPew\"})"
   ]
  },
  {
   "cell_type": "code",
   "execution_count": 296,
   "metadata": {},
   "outputs": [
    {
     "data": {
      "text/plain": [
       "3"
      ]
     },
     "execution_count": 296,
     "metadata": {},
     "output_type": "execute_result"
    }
   ],
   "source": [
    "len(experience)"
   ]
  },
  {
   "cell_type": "code",
   "execution_count": 297,
   "metadata": {},
   "outputs": [],
   "source": [
    "exp = experience[0]"
   ]
  },
  {
   "cell_type": "code",
   "execution_count": 298,
   "metadata": {},
   "outputs": [],
   "source": [
    "def get_exp(exp):\n",
    "\n",
    "    exp_dict = {}\n",
    "\n",
    "    name = exp.find('div', {'class': 'display-flex flex-wrap align-items-center full-height'})\n",
    "    name = name.find('span', {'class': 'visually-hidden'})\n",
    "    name = name.get_text().strip()\n",
    "\n",
    "    duration = exp.find('span', {'class': 't-14 t-normal'})\n",
    "    duration = duration.find('span', {'class': 'visually-hidden'})\n",
    "    duration = duration.get_text().strip()\n",
    "    duration\n",
    "\n",
    "    exp_dict['company_name'] = name\n",
    "    exp_dict['duration'] = duration\n",
    "\n",
    "    designations = exp.find_all('div', {'class': 'hEBLFpftftXWPGRYGoDBcDKaBkMEMXl'})\n",
    "\n",
    "    item_list = []\n",
    "    for position in designations:\n",
    "        spans = position.find_all('span', {'class': 'visually-hidden'})\n",
    "\n",
    "        item_dict = {}\n",
    "        try:\n",
    "            item_dict['designation'] = spans[0].get_text().strip()\n",
    "        except:\n",
    "            item_dict['designation'] = \"NaN\"\n",
    "        try:\n",
    "            item_dict['duration'] = spans[1].get_text().strip()\n",
    "        except:\n",
    "            item_dict['duration'] = \"NaN\"\n",
    "        try:\n",
    "            item_dict['location'] = spans[2].get_text().strip()\n",
    "        except:\n",
    "            item_dict['location'] = \"NaN\"\n",
    "\n",
    "        try:\n",
    "            item_dict['projects'] = spans[3].get_text().strip()\n",
    "        except:\n",
    "            item_dict['projects'] = \"NaN\"\n",
    "\n",
    "        item_list.append(item_dict)\n",
    "\n",
    "\n",
    "    exp_dict['designations'] = item_list\n",
    "\n",
    "    return exp_dict\n",
    "\n",
    "item_list = []\n",
    "for exp in experience:\n",
    "    item_list.append(get_exp(exp))"
   ]
  },
  {
   "cell_type": "code",
   "execution_count": 299,
   "metadata": {},
   "outputs": [],
   "source": [
    "profile_data['experience'] = item_list\n"
   ]
  },
  {
   "cell_type": "code",
   "execution_count": 300,
   "metadata": {},
   "outputs": [
    {
     "data": {
      "text/plain": [
       "{'name': 'Bill Gates',\n",
       " 'url': 'https://www.linkedin.com/in/williamhgates/',\n",
       " 'headline': 'Chair, Gates Foundation and Founder, Breakthrough Energy',\n",
       " 'about': 'Chair of the Bill & Melinda Gates Foundation. Founder of Breakthrough Energy. Co-founder of Microsoft. Voracious reader. Avid traveler. Active blogger.Chair of the Bill & Melinda Gates Foundation. Founder of Breakthrough Energy. Co-founder of Microsoft. Voracious reader. Avid traveler. Active blogger.',\n",
       " 'experience': [{'company_name': 'Co-chair',\n",
       "   'duration': 'Bill & Melinda Gates Foundation',\n",
       "   'designations': []},\n",
       "  {'company_name': 'Founder',\n",
       "   'duration': 'Breakthrough Energy',\n",
       "   'designations': []},\n",
       "  {'company_name': 'Co-founder', 'duration': 'Microsoft', 'designations': []}]}"
      ]
     },
     "execution_count": 300,
     "metadata": {},
     "output_type": "execute_result"
    }
   ],
   "source": [
    "profile_data"
   ]
  },
  {
   "cell_type": "markdown",
   "metadata": {},
   "source": [
    "### Education"
   ]
  },
  {
   "cell_type": "code",
   "execution_count": 301,
   "metadata": {},
   "outputs": [],
   "source": [
    "for sec in sections:\n",
    "    if sec.find('div', {'id': 'education'}):\n",
    "        educations = sec"
   ]
  },
  {
   "cell_type": "code",
   "execution_count": 302,
   "metadata": {},
   "outputs": [],
   "source": [
    "# educations.get_text().strip()"
   ]
  },
  {
   "cell_type": "code",
   "execution_count": 303,
   "metadata": {},
   "outputs": [],
   "source": [
    "items_edu = educations.find_all('div', {'class': 'hEBLFpftftXWPGRYGoDBcDKaBkMEMXl kHeaHcCachnYMkafaTqchiuXOxZiAqnKnI fSrphoSMRUdlxXvcULjOSIZHmHqSYCZUqKkPew'})"
   ]
  },
  {
   "cell_type": "code",
   "execution_count": 304,
   "metadata": {},
   "outputs": [
    {
     "data": {
      "text/plain": [
       "2"
      ]
     },
     "execution_count": 304,
     "metadata": {},
     "output_type": "execute_result"
    }
   ],
   "source": [
    "len(items_edu)"
   ]
  },
  {
   "cell_type": "code",
   "execution_count": 305,
   "metadata": {},
   "outputs": [],
   "source": [
    "def get_edu(item):\n",
    "    item_dict = {}\n",
    "    spans = item.find_all('span', {'class': 'visually-hidden'})\n",
    "\n",
    "    try:\n",
    "        item_dict['college'] = spans[0].get_text().strip()\n",
    "    except:\n",
    "        item_dict['college'] =\"NaN\"\n",
    "    try:\n",
    "        item_dict['degree'] = spans[1].get_text().strip()\n",
    "    except:\n",
    "        item_dict['degree'] = \"NaN\"\n",
    "    try:\n",
    "        item_dict['duration'] = spans[2].get_text().strip()\n",
    "    except:\n",
    "        item_dict['duration'] = \"NaN\"\n",
    "    try:\n",
    "        item_dict['project'] = spans[3].get_text().strip()\n",
    "    except:\n",
    "        item_dict['project'] = \"NaN\"\n",
    "\n",
    "    return item_dict\n",
    "\n",
    "item_list = []\n",
    "for item in items_edu:\n",
    "    item_list.append(get_edu(item))\n",
    "\n",
    "profile_data['education'] = item_list\n"
   ]
  },
  {
   "cell_type": "code",
   "execution_count": 306,
   "metadata": {},
   "outputs": [
    {
     "data": {
      "text/plain": [
       "{'name': 'Bill Gates',\n",
       " 'url': 'https://www.linkedin.com/in/williamhgates/',\n",
       " 'headline': 'Chair, Gates Foundation and Founder, Breakthrough Energy',\n",
       " 'about': 'Chair of the Bill & Melinda Gates Foundation. Founder of Breakthrough Energy. Co-founder of Microsoft. Voracious reader. Avid traveler. Active blogger.Chair of the Bill & Melinda Gates Foundation. Founder of Breakthrough Energy. Co-founder of Microsoft. Voracious reader. Avid traveler. Active blogger.',\n",
       " 'experience': [{'company_name': 'Co-chair',\n",
       "   'duration': 'Bill & Melinda Gates Foundation',\n",
       "   'designations': []},\n",
       "  {'company_name': 'Founder',\n",
       "   'duration': 'Breakthrough Energy',\n",
       "   'designations': []},\n",
       "  {'company_name': 'Co-founder', 'duration': 'Microsoft', 'designations': []}],\n",
       " 'education': [{'college': 'Harvard University',\n",
       "   'degree': '1973 - 1975',\n",
       "   'duration': 'NaN',\n",
       "   'project': 'NaN'},\n",
       "  {'college': 'Lakeside School',\n",
       "   'degree': 'NaN',\n",
       "   'duration': 'NaN',\n",
       "   'project': 'NaN'}]}"
      ]
     },
     "execution_count": 306,
     "metadata": {},
     "output_type": "execute_result"
    }
   ],
   "source": [
    "profile_data"
   ]
  },
  {
   "cell_type": "markdown",
   "metadata": {},
   "source": [
    "### Licenses & certifications"
   ]
  },
  {
   "cell_type": "code",
   "execution_count": 307,
   "metadata": {},
   "outputs": [],
   "source": [
    "licenses = False\n",
    "try:\n",
    "    driver.find_element(By.ID, \"navigation-index-see-all-licenses-and-certifications\").click()\n",
    "    licenses = True\n",
    "except:\n",
    "    pass"
   ]
  },
  {
   "cell_type": "code",
   "execution_count": 308,
   "metadata": {},
   "outputs": [
    {
     "name": "stdout",
     "output_type": "stream",
     "text": [
      "False\n"
     ]
    }
   ],
   "source": [
    "print(licenses)"
   ]
  },
  {
   "cell_type": "code",
   "execution_count": 309,
   "metadata": {},
   "outputs": [],
   "source": [
    "\n",
    "page_source = driver.page_source\n",
    "soup = BeautifulSoup(page_source, 'html.parser')\n",
    "soup = soup.find('section', {'class': 'artdeco-card pb3'})"
   ]
  },
  {
   "cell_type": "code",
   "execution_count": 310,
   "metadata": {},
   "outputs": [
    {
     "data": {
      "text/plain": [
       "0"
      ]
     },
     "execution_count": 310,
     "metadata": {},
     "output_type": "execute_result"
    }
   ],
   "source": [
    "if licenses == True:\n",
    "    items_lic = soup.find_all('div', {'class':'hEBLFpftftXWPGRYGoDBcDKaBkMEMXl kHeaHcCachnYMkafaTqchiuXOxZiAqnKnI fSrphoSMRUdlxXvcULjOSIZHmHqSYCZUqKkPew'})\n",
    "   \n",
    "items_lic = []\n",
    "\n",
    "len(items_lic)"
   ]
  },
  {
   "cell_type": "code",
   "execution_count": 311,
   "metadata": {},
   "outputs": [],
   "source": [
    "if len(items_lic)>0:\n",
    "    item = items_lic[0]\n",
    "\n",
    "def get_license(item):\n",
    "    \n",
    "\n",
    "        spans = item.find_all('span', {'class': 'visually-hidden'})\n",
    "\n",
    "        item_dict = {}\n",
    "        try:\n",
    "            item_dict['name'] = spans[0].get_text().strip()\n",
    "        except:\n",
    "            item_dict['name'] = \"NaN\"\n",
    "        try:\n",
    "            item_dict['institute'] = spans[1].get_text().strip()\n",
    "        except:\n",
    "            item_dict['institute'] =\"NaN\"\n",
    "        try:\n",
    "            item_dict['issued_date'] = spans[2].get_text().strip()\n",
    "        except:\n",
    "            item_dict['issued_date'] = \"NaN\"\n",
    "\n",
    "        return item_dict\n",
    "\n",
    "item_list = []\n",
    "for item in items_lic:\n",
    "    item_list.append(get_license(item))\n",
    "\n",
    "profile_data['licenses'] = item_list\n"
   ]
  },
  {
   "cell_type": "code",
   "execution_count": 312,
   "metadata": {},
   "outputs": [],
   "source": [
    "if license == True:\n",
    "    driver.back()\n",
    "else:\n",
    "    pass\n",
    "\n"
   ]
  },
  {
   "cell_type": "code",
   "execution_count": 313,
   "metadata": {},
   "outputs": [
    {
     "data": {
      "text/plain": [
       "{'name': 'Bill Gates',\n",
       " 'url': 'https://www.linkedin.com/in/williamhgates/',\n",
       " 'headline': 'Chair, Gates Foundation and Founder, Breakthrough Energy',\n",
       " 'about': 'Chair of the Bill & Melinda Gates Foundation. Founder of Breakthrough Energy. Co-founder of Microsoft. Voracious reader. Avid traveler. Active blogger.Chair of the Bill & Melinda Gates Foundation. Founder of Breakthrough Energy. Co-founder of Microsoft. Voracious reader. Avid traveler. Active blogger.',\n",
       " 'experience': [{'company_name': 'Co-chair',\n",
       "   'duration': 'Bill & Melinda Gates Foundation',\n",
       "   'designations': []},\n",
       "  {'company_name': 'Founder',\n",
       "   'duration': 'Breakthrough Energy',\n",
       "   'designations': []},\n",
       "  {'company_name': 'Co-founder', 'duration': 'Microsoft', 'designations': []}],\n",
       " 'education': [{'college': 'Harvard University',\n",
       "   'degree': '1973 - 1975',\n",
       "   'duration': 'NaN',\n",
       "   'project': 'NaN'},\n",
       "  {'college': 'Lakeside School',\n",
       "   'degree': 'NaN',\n",
       "   'duration': 'NaN',\n",
       "   'project': 'NaN'}],\n",
       " 'licenses': []}"
      ]
     },
     "execution_count": 313,
     "metadata": {},
     "output_type": "execute_result"
    }
   ],
   "source": [
    "profile_data"
   ]
  },
  {
   "cell_type": "markdown",
   "metadata": {},
   "source": [
    "### Projects"
   ]
  },
  {
   "cell_type": "code",
   "execution_count": 314,
   "metadata": {},
   "outputs": [],
   "source": [
    "projects = False\n",
    "try:\n",
    "    driver.find_element(By.ID, \"navigation-index-see-all-projects\").click()\n",
    "    projects = True\n",
    "except:\n",
    "    pass"
   ]
  },
  {
   "cell_type": "code",
   "execution_count": 315,
   "metadata": {},
   "outputs": [],
   "source": [
    "page_source = driver.page_source\n",
    "soup = BeautifulSoup(page_source, 'html.parser')\n",
    "\n",
    "soup = soup.find('section', {'class': 'artdeco-card pb3'})"
   ]
  },
  {
   "cell_type": "code",
   "execution_count": 316,
   "metadata": {},
   "outputs": [
    {
     "data": {
      "text/plain": [
       "False"
      ]
     },
     "execution_count": 316,
     "metadata": {},
     "output_type": "execute_result"
    }
   ],
   "source": [
    "projects"
   ]
  },
  {
   "cell_type": "code",
   "execution_count": 317,
   "metadata": {},
   "outputs": [
    {
     "data": {
      "text/plain": [
       "0"
      ]
     },
     "execution_count": 317,
     "metadata": {},
     "output_type": "execute_result"
    }
   ],
   "source": [
    "if projects == True:\n",
    "    items_pro = soup.find_all('div', {'class': 'hEBLFpftftXWPGRYGoDBcDKaBkMEMXl kHeaHcCachnYMkafaTqchiuXOxZiAqnKnI fSrphoSMRUdlxXvcULjOSIZHmHqSYCZUqKkPew'})\n",
    "items_pro = []\n",
    "len(items_pro)"
   ]
  },
  {
   "cell_type": "code",
   "execution_count": 318,
   "metadata": {},
   "outputs": [],
   "source": [
    "if len(items_pro)> 0:\n",
    "    item = items_pro[0]\n",
    "\n",
    "def get_project(item):\n",
    "    spans = item.find_all('span', {'class': 'visually-hidden'})\n",
    "\n",
    "    item_dict = {}\n",
    "    try:\n",
    "        item_dict['project_name'] = spans[0].get_text().strip()\n",
    "    except:\n",
    "        item_dict['project_name'] =\"NaN\"\n",
    "    try:\n",
    "        item_dict['duration'] = spans[1].get_text().strip()\n",
    "    except:\n",
    "        item_dict['duration'] = \"NaN\"\n",
    "    try:\n",
    "        item_dict['description'] = spans[2].get_text().strip()\n",
    "    except:\n",
    "        item_dict['description'] = \"NaN\"\n",
    "    return item_dict\n",
    "\n",
    "item_list = []\n",
    "for item in items_pro:\n",
    "    item_list.append(get_project(item))\n",
    "\n",
    "profile_data['projects'] = item_list"
   ]
  },
  {
   "cell_type": "code",
   "execution_count": 319,
   "metadata": {},
   "outputs": [],
   "source": [
    "if projects == True:\n",
    "    driver.back()"
   ]
  },
  {
   "cell_type": "code",
   "execution_count": 320,
   "metadata": {},
   "outputs": [
    {
     "data": {
      "text/plain": [
       "{'name': 'Bill Gates',\n",
       " 'url': 'https://www.linkedin.com/in/williamhgates/',\n",
       " 'headline': 'Chair, Gates Foundation and Founder, Breakthrough Energy',\n",
       " 'about': 'Chair of the Bill & Melinda Gates Foundation. Founder of Breakthrough Energy. Co-founder of Microsoft. Voracious reader. Avid traveler. Active blogger.Chair of the Bill & Melinda Gates Foundation. Founder of Breakthrough Energy. Co-founder of Microsoft. Voracious reader. Avid traveler. Active blogger.',\n",
       " 'experience': [{'company_name': 'Co-chair',\n",
       "   'duration': 'Bill & Melinda Gates Foundation',\n",
       "   'designations': []},\n",
       "  {'company_name': 'Founder',\n",
       "   'duration': 'Breakthrough Energy',\n",
       "   'designations': []},\n",
       "  {'company_name': 'Co-founder', 'duration': 'Microsoft', 'designations': []}],\n",
       " 'education': [{'college': 'Harvard University',\n",
       "   'degree': '1973 - 1975',\n",
       "   'duration': 'NaN',\n",
       "   'project': 'NaN'},\n",
       "  {'college': 'Lakeside School',\n",
       "   'degree': 'NaN',\n",
       "   'duration': 'NaN',\n",
       "   'project': 'NaN'}],\n",
       " 'licenses': [],\n",
       " 'projects': []}"
      ]
     },
     "execution_count": 320,
     "metadata": {},
     "output_type": "execute_result"
    }
   ],
   "source": [
    "profile_data"
   ]
  },
  {
   "cell_type": "markdown",
   "metadata": {},
   "source": [
    "### All Courses"
   ]
  },
  {
   "cell_type": "code",
   "execution_count": 321,
   "metadata": {},
   "outputs": [],
   "source": [
    "courses = False\n",
    "try:\n",
    "    driver.find_element(By.ID, \"navigation-index-see-all-courses\").click()\n",
    "    courses = True\n",
    "except:\n",
    "    pass"
   ]
  },
  {
   "cell_type": "code",
   "execution_count": 322,
   "metadata": {},
   "outputs": [
    {
     "data": {
      "text/plain": [
       "0"
      ]
     },
     "execution_count": 322,
     "metadata": {},
     "output_type": "execute_result"
    }
   ],
   "source": [
    "page_source = driver.page_source\n",
    "soup = BeautifulSoup(page_source, 'html.parser')\n",
    "\n",
    "soup = soup.find('section', {'class': 'artdeco-card pb3'})\n",
    "if courses == True:\n",
    "    items_cour = soup.find_all('div', {'class': 'hEBLFpftftXWPGRYGoDBcDKaBkMEMXl kHeaHcCachnYMkafaTqchiuXOxZiAqnKnI fSrphoSMRUdlxXvcULjOSIZHmHqSYCZUqKkPew'})\n",
    "items_cour = []\n",
    "len(items_cour)"
   ]
  },
  {
   "cell_type": "code",
   "execution_count": 323,
   "metadata": {},
   "outputs": [],
   "source": [
    "if len(items_cour)>0:\n",
    "    item = items_cour[0]\n",
    "\n",
    "def get_course(item):\n",
    "    spans = item.find_all('span', {'class': 'visually-hidden'})\n",
    "\n",
    "    item_dict = {}\n",
    "    item_dict['course_name'] = spans[0].get_text().strip()\n",
    "    try:\n",
    "        item_dict['associated_with'] = spans[1].get_text().strip()\n",
    "    except:\n",
    "        item_dict['associated_with'] = \"\"\n",
    "\n",
    "    return item_dict\n",
    "\n",
    "item_list = []\n",
    "for item in items_cour:\n",
    "    item_list.append(get_course(item))\n",
    "\n",
    "profile_data['courses'] = item_list"
   ]
  },
  {
   "cell_type": "code",
   "execution_count": 324,
   "metadata": {},
   "outputs": [],
   "source": [
    "if courses == True:\n",
    "    driver.back()"
   ]
  },
  {
   "cell_type": "code",
   "execution_count": 325,
   "metadata": {},
   "outputs": [
    {
     "data": {
      "text/plain": [
       "{'name': 'Bill Gates',\n",
       " 'url': 'https://www.linkedin.com/in/williamhgates/',\n",
       " 'headline': 'Chair, Gates Foundation and Founder, Breakthrough Energy',\n",
       " 'about': 'Chair of the Bill & Melinda Gates Foundation. Founder of Breakthrough Energy. Co-founder of Microsoft. Voracious reader. Avid traveler. Active blogger.Chair of the Bill & Melinda Gates Foundation. Founder of Breakthrough Energy. Co-founder of Microsoft. Voracious reader. Avid traveler. Active blogger.',\n",
       " 'experience': [{'company_name': 'Co-chair',\n",
       "   'duration': 'Bill & Melinda Gates Foundation',\n",
       "   'designations': []},\n",
       "  {'company_name': 'Founder',\n",
       "   'duration': 'Breakthrough Energy',\n",
       "   'designations': []},\n",
       "  {'company_name': 'Co-founder', 'duration': 'Microsoft', 'designations': []}],\n",
       " 'education': [{'college': 'Harvard University',\n",
       "   'degree': '1973 - 1975',\n",
       "   'duration': 'NaN',\n",
       "   'project': 'NaN'},\n",
       "  {'college': 'Lakeside School',\n",
       "   'degree': 'NaN',\n",
       "   'duration': 'NaN',\n",
       "   'project': 'NaN'}],\n",
       " 'licenses': [],\n",
       " 'projects': [],\n",
       " 'courses': []}"
      ]
     },
     "execution_count": 325,
     "metadata": {},
     "output_type": "execute_result"
    }
   ],
   "source": [
    "profile_data"
   ]
  },
  {
   "cell_type": "markdown",
   "metadata": {},
   "source": [
    "### Honors & awards"
   ]
  },
  {
   "cell_type": "code",
   "execution_count": 326,
   "metadata": {},
   "outputs": [],
   "source": [
    "honors = False\n",
    "try:\n",
    "    driver.find_element(By.ID, \"navigation-index-see-all-honorsandawards\").click()\n",
    "    honors =True\n",
    "except:\n",
    "    pass"
   ]
  },
  {
   "cell_type": "code",
   "execution_count": 327,
   "metadata": {},
   "outputs": [
    {
     "data": {
      "text/plain": [
       "0"
      ]
     },
     "execution_count": 327,
     "metadata": {},
     "output_type": "execute_result"
    }
   ],
   "source": [
    "page_source = driver.page_source\n",
    "soup = BeautifulSoup(page_source, 'html.parser')\n",
    "\n",
    "soup = soup.find('section', {'class': 'artdeco-card pb3'})\n",
    "\n",
    "if honors == True:\n",
    "    items_hon = soup.find_all('span', {'class': 'visually-hidden'})\n",
    "items_hon = []\n",
    "\n",
    "len(items_hon)"
   ]
  },
  {
   "cell_type": "code",
   "execution_count": 328,
   "metadata": {},
   "outputs": [],
   "source": [
    "item_list = []\n",
    "for item in items_hon:\n",
    "    item_list.append(item.get_text().strip())"
   ]
  },
  {
   "cell_type": "code",
   "execution_count": 329,
   "metadata": {},
   "outputs": [],
   "source": [
    "profile_data['honors_and_awards'] = item_list"
   ]
  },
  {
   "cell_type": "code",
   "execution_count": 330,
   "metadata": {},
   "outputs": [
    {
     "data": {
      "text/plain": [
       "{'name': 'Bill Gates',\n",
       " 'url': 'https://www.linkedin.com/in/williamhgates/',\n",
       " 'headline': 'Chair, Gates Foundation and Founder, Breakthrough Energy',\n",
       " 'about': 'Chair of the Bill & Melinda Gates Foundation. Founder of Breakthrough Energy. Co-founder of Microsoft. Voracious reader. Avid traveler. Active blogger.Chair of the Bill & Melinda Gates Foundation. Founder of Breakthrough Energy. Co-founder of Microsoft. Voracious reader. Avid traveler. Active blogger.',\n",
       " 'experience': [{'company_name': 'Co-chair',\n",
       "   'duration': 'Bill & Melinda Gates Foundation',\n",
       "   'designations': []},\n",
       "  {'company_name': 'Founder',\n",
       "   'duration': 'Breakthrough Energy',\n",
       "   'designations': []},\n",
       "  {'company_name': 'Co-founder', 'duration': 'Microsoft', 'designations': []}],\n",
       " 'education': [{'college': 'Harvard University',\n",
       "   'degree': '1973 - 1975',\n",
       "   'duration': 'NaN',\n",
       "   'project': 'NaN'},\n",
       "  {'college': 'Lakeside School',\n",
       "   'degree': 'NaN',\n",
       "   'duration': 'NaN',\n",
       "   'project': 'NaN'}],\n",
       " 'licenses': [],\n",
       " 'projects': [],\n",
       " 'courses': [],\n",
       " 'honors_and_awards': []}"
      ]
     },
     "execution_count": 330,
     "metadata": {},
     "output_type": "execute_result"
    }
   ],
   "source": [
    "profile_data"
   ]
  },
  {
   "cell_type": "code",
   "execution_count": 331,
   "metadata": {},
   "outputs": [],
   "source": [
    "import json\n",
    "\n",
    "with open('data/profile_data_first.json', 'w') as f:\n",
    "    json.dump(profile_data, f, indent=4)"
   ]
  },
  {
   "cell_type": "code",
   "execution_count": 332,
   "metadata": {},
   "outputs": [],
   "source": [
    "driver.back()"
   ]
  },
  {
   "cell_type": "code",
   "execution_count": null,
   "metadata": {},
   "outputs": [],
   "source": []
  }
 ],
 "metadata": {
  "kernelspec": {
   "display_name": "Python 3",
   "language": "python",
   "name": "python3"
  },
  "language_info": {
   "codemirror_mode": {
    "name": "ipython",
    "version": 3
   },
   "file_extension": ".py",
   "mimetype": "text/x-python",
   "name": "python",
   "nbconvert_exporter": "python",
   "pygments_lexer": "ipython3",
   "version": "3.12.0"
  }
 },
 "nbformat": 4,
 "nbformat_minor": 2
}
